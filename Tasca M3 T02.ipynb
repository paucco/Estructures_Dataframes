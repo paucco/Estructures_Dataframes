{
 "cells": [
  {
   "cell_type": "markdown",
   "id": "b397542b",
   "metadata": {},
   "source": [
    "##  Tasca M3 T02"
   ]
  },
  {
   "cell_type": "markdown",
   "id": "46c8068c",
   "metadata": {},
   "source": [
    "### Exercici 1\n",
    "***\n",
    "\n",
    "Descarrega el data set Airlines Delay: Airline on-time statistics and delay causes i carrega’l a un Pandas Dataframe. Explora les dades que conté, explica breument quines variables hi ha i queda’t únicament amb les columnes que consideris rellevants. Justifica la teva elecció."
   ]
  },
  {
   "cell_type": "code",
   "execution_count": 1,
   "id": "edac6726",
   "metadata": {},
   "outputs": [
    {
     "name": "stdout",
     "output_type": "stream",
     "text": [
      "   Unnamed: 0  Year  Month  DayofMonth  DayOfWeek  DepTime  CRSDepTime  \\\n",
      "0           0  2008      1           3          4   2003.0        1955   \n",
      "1           1  2008      1           3          4    754.0         735   \n",
      "2           2  2008      1           3          4    628.0         620   \n",
      "3           4  2008      1           3          4   1829.0        1755   \n",
      "4           5  2008      1           3          4   1940.0        1915   \n",
      "5           6  2008      1           3          4   1937.0        1830   \n",
      "6          10  2008      1           3          4    706.0         700   \n",
      "7          11  2008      1           3          4   1644.0        1510   \n",
      "8          15  2008      1           3          4   1029.0        1020   \n",
      "9          16  2008      1           3          4   1452.0        1425   \n",
      "\n",
      "   ArrTime  CRSArrTime UniqueCarrier  ...  TaxiIn TaxiOut  Cancelled  \\\n",
      "0   2211.0        2225            WN  ...     4.0     8.0          0   \n",
      "1   1002.0        1000            WN  ...     5.0    10.0          0   \n",
      "2    804.0         750            WN  ...     3.0    17.0          0   \n",
      "3   1959.0        1925            WN  ...     3.0    10.0          0   \n",
      "4   2121.0        2110            WN  ...     4.0    10.0          0   \n",
      "5   2037.0        1940            WN  ...     3.0     7.0          0   \n",
      "6    916.0         915            WN  ...     5.0    19.0          0   \n",
      "7   1845.0        1725            WN  ...     6.0     8.0          0   \n",
      "8   1021.0        1010            WN  ...     6.0     9.0          0   \n",
      "9   1640.0        1625            WN  ...     7.0     8.0          0   \n",
      "\n",
      "   CancellationCode  Diverted  CarrierDelay  WeatherDelay NASDelay  \\\n",
      "0                 N         0           NaN           NaN      NaN   \n",
      "1                 N         0           NaN           NaN      NaN   \n",
      "2                 N         0           NaN           NaN      NaN   \n",
      "3                 N         0           2.0           0.0      0.0   \n",
      "4                 N         0           NaN           NaN      NaN   \n",
      "5                 N         0          10.0           0.0      0.0   \n",
      "6                 N         0           NaN           NaN      NaN   \n",
      "7                 N         0           8.0           0.0      0.0   \n",
      "8                 N         0           NaN           NaN      NaN   \n",
      "9                 N         0           3.0           0.0      0.0   \n",
      "\n",
      "  SecurityDelay  LateAircraftDelay  \n",
      "0           NaN                NaN  \n",
      "1           NaN                NaN  \n",
      "2           NaN                NaN  \n",
      "3           0.0               32.0  \n",
      "4           NaN                NaN  \n",
      "5           0.0               47.0  \n",
      "6           NaN                NaN  \n",
      "7           0.0               72.0  \n",
      "8           NaN                NaN  \n",
      "9           0.0               12.0  \n",
      "\n",
      "[10 rows x 30 columns]\n"
     ]
    }
   ],
   "source": [
    "import pandas as pd\n",
    "\n",
    "data = pd.read_csv(\"DelayedFlights.csv\")\n",
    "\n",
    "df = pd.DataFrame(data)\n",
    "\n",
    "# Observació de les dades que conté el dataset\n",
    "\n",
    "print (df.head(10))"
   ]
  },
  {
   "cell_type": "code",
   "execution_count": 2,
   "id": "51f850ff",
   "metadata": {},
   "outputs": [
    {
     "name": "stdout",
     "output_type": "stream",
     "text": [
      "<class 'pandas.core.frame.DataFrame'>\n",
      "RangeIndex: 1936758 entries, 0 to 1936757\n",
      "Data columns (total 30 columns):\n",
      " #   Column             Dtype  \n",
      "---  ------             -----  \n",
      " 0   Unnamed: 0         int64  \n",
      " 1   Year               int64  \n",
      " 2   Month              int64  \n",
      " 3   DayofMonth         int64  \n",
      " 4   DayOfWeek          int64  \n",
      " 5   DepTime            float64\n",
      " 6   CRSDepTime         int64  \n",
      " 7   ArrTime            float64\n",
      " 8   CRSArrTime         int64  \n",
      " 9   UniqueCarrier      object \n",
      " 10  FlightNum          int64  \n",
      " 11  TailNum            object \n",
      " 12  ActualElapsedTime  float64\n",
      " 13  CRSElapsedTime     float64\n",
      " 14  AirTime            float64\n",
      " 15  ArrDelay           float64\n",
      " 16  DepDelay           float64\n",
      " 17  Origin             object \n",
      " 18  Dest               object \n",
      " 19  Distance           int64  \n",
      " 20  TaxiIn             float64\n",
      " 21  TaxiOut            float64\n",
      " 22  Cancelled          int64  \n",
      " 23  CancellationCode   object \n",
      " 24  Diverted           int64  \n",
      " 25  CarrierDelay       float64\n",
      " 26  WeatherDelay       float64\n",
      " 27  NASDelay           float64\n",
      " 28  SecurityDelay      float64\n",
      " 29  LateAircraftDelay  float64\n",
      "dtypes: float64(14), int64(11), object(5)\n",
      "memory usage: 443.3+ MB\n",
      "None\n"
     ]
    }
   ],
   "source": [
    "# Observació de quin tipus de dades hi ha al dataset\n",
    "\n",
    "print (df.info())"
   ]
  },
  {
   "cell_type": "markdown",
   "id": "86dadec5",
   "metadata": {},
   "source": [
    "És un dataset extens (1936758 files × 30 columnes) que conté informació sobre els vols durant el 2008. Les variables del dataset són les següents:\n",
    "\n",
    "- **Year**: L'any del vol.\n",
    "\n",
    "- **Month**: El mes del vol.\n",
    "\n",
    "- **DayofMonth**: El dia del mes del vol.\n",
    "\n",
    "- **DayOfWeek**: El dia de la setmana del vol.\n",
    "\n",
    "- **DepTime**: L'hora de sortida real del vol.\n",
    "\n",
    "- **CRSDepTime**: L'hora de sortida programada del vol.\n",
    "\n",
    "- **ArrTime**: L'hora d'arribada real del vol.\n",
    "\n",
    "- **CRSArrTime**: L'hora d'arribada programada del vol.\n",
    "\n",
    "- **UniqueCarrier**: El codi d'identificació de l'aerolínia.\n",
    "\n",
    "- **FlightNum**: El número de vol.\n",
    "\n",
    "- **TailNum**: El número de cua de l'aeronau.\n",
    "\n",
    "- **ActualElapsedTime**: Durada real del vol (minuts).\n",
    "\n",
    "- **CRSElapsedTime**: Durada del vol programat (minuts).\n",
    "\n",
    "- **AirTime**: El temps de vol en l'aire (minuts).\n",
    "\n",
    "- **ArrDelay**: El retard en l'arribada (minuts).\n",
    "\n",
    "- **DepDelay**: El retard en la sortida (minuts).\n",
    "\n",
    "- **Origin**: L'aeroport d'origen del vol.\n",
    "\n",
    "- **Dest**: L'aeroport de destinació del vol.\n",
    "\n",
    "- **Distance**: La distància del vol (milles).\n",
    "\n",
    "- **TaxiIn**: El temps de rodatge en l'arribada (minuts).\n",
    "\n",
    "- **TaxiOut**: El temps de rodatge en la sortida (minuts).\n",
    "\n",
    "- **Cancelled**: Vols cancel·lats (Si(1) o No(0)).\n",
    "\n",
    "- **CancellationCode**: El codi de cancel·lació del vol.\n",
    "\n",
    "- **Diverted**: Vols desviats a un altre aeroport (Si(1) o No(0)).\n",
    "\n",
    "- **CarrierDelay**: El temps de retard degut a l'aerolínia (minuts).\n",
    "\n",
    "- **WeatherDelay**: El temps de retard degut al les condicions climàtiques (minuts).\n",
    "\n",
    "- **NASDelay**: El temps de retard degut al Sistema Nacional d'Aviació (minuts).\n",
    "\n",
    "- **SecurityDelay**: El temps de retard degut a problemes de seguretat (minuts).\n",
    "\n",
    "- **LateAircraftDelay**: El temps de retard degut a problemes amb l'avió (minuts).\n",
    "\n",
    "\n",
    "De moment totes les columnes poden aportar informació rellevant per fer un anàlisi d'aquest dataset. Més endavant, segons les necessitats, s'escollirà quines són les més adecuades. Seguidament, mirem si hi ha valors nuls per poder tratar les dades i decidir quines són les importants i/o les que necessitem."
   ]
  },
  {
   "cell_type": "code",
   "execution_count": 3,
   "id": "cb5e66cc",
   "metadata": {},
   "outputs": [
    {
     "name": "stdout",
     "output_type": "stream",
     "text": [
      "Unnamed: 0                0\n",
      "Year                      0\n",
      "Month                     0\n",
      "DayofMonth                0\n",
      "DayOfWeek                 0\n",
      "DepTime                   0\n",
      "CRSDepTime                0\n",
      "ArrTime                7110\n",
      "CRSArrTime                0\n",
      "UniqueCarrier             0\n",
      "FlightNum                 0\n",
      "TailNum                   5\n",
      "ActualElapsedTime      8387\n",
      "CRSElapsedTime          198\n",
      "AirTime                8387\n",
      "ArrDelay               8387\n",
      "DepDelay                  0\n",
      "Origin                    0\n",
      "Dest                      0\n",
      "Distance                  0\n",
      "TaxiIn                 7110\n",
      "TaxiOut                 455\n",
      "Cancelled                 0\n",
      "CancellationCode          0\n",
      "Diverted                  0\n",
      "CarrierDelay         689270\n",
      "WeatherDelay         689270\n",
      "NASDelay             689270\n",
      "SecurityDelay        689270\n",
      "LateAircraftDelay    689270\n",
      "dtype: int64\n"
     ]
    }
   ],
   "source": [
    "# Observar si hi ha valors nuls al dataset\n",
    "\n",
    "print (df.isnull().sum())\n"
   ]
  },
  {
   "cell_type": "markdown",
   "id": "dbb97752",
   "metadata": {},
   "source": [
    "Les variables 'ArrTime', 'ActualElapsedTime', 'CRSElapsedTime', 'AirTime', 'ArrDelay', 'TaxiIn' i 'TaxiOut' tenen valors nuls, però proporcionalment al total de registres (casi 2M), no sembla que influeixin. Per tant, de moment no les eliminarem, ni modificarem. En canvi, les variables 'CarrierDelay', 'WeatherDelay', 'NASDelay', 'SecurityDelay' i 'LateAircraftDelay' si que tenen un nombre considerable de nuls (un terç del total de registres). Procedim a analitzar aquest fet:"
   ]
  },
  {
   "cell_type": "code",
   "execution_count": 4,
   "id": "2c8e50b7",
   "metadata": {
    "scrolled": true
   },
   "outputs": [
    {
     "name": "stdout",
     "output_type": "stream",
     "text": [
      "Vols sense Delay de més de 15 min: 680883\n",
      "Vols cancelats: 633\n",
      "Vols desviats: 7754\n",
      "Suma total: 689270\n"
     ]
    }
   ],
   "source": [
    "# Mirar si la falta de registres coincideix amb els vols cancelats, desviats i els que no es consideren delays (< 15 min)\n",
    "# (si no són delays és lògic que no tinguin registres en les variables sobre les causes d'aquests)\n",
    "\n",
    "\n",
    "df_arr = df[df['ArrDelay'] < 15].shape[0]\n",
    "\n",
    "df_can = df['Cancelled'].value_counts()\n",
    "\n",
    "df_des = df['Diverted'].value_counts()\n",
    "\n",
    "suma = df_arr + df_can[1] + df_des[1]\n",
    "\n",
    "print ('Vols sense Delay de més de 15 min:', df_arr)\n",
    "print ('Vols cancelats:', df_can[1])\n",
    "print ('Vols desviats:', df_des[1])\n",
    "print ('Suma total:', suma)"
   ]
  },
  {
   "cell_type": "markdown",
   "id": "da1b515c",
   "metadata": {},
   "source": [
    "Coincideixen els números (la suma total i els valors nuls), per tant, procedim a canviar els valors nuls per un 0."
   ]
  },
  {
   "cell_type": "code",
   "execution_count": 2,
   "id": "2370f7a8",
   "metadata": {},
   "outputs": [
    {
     "name": "stdout",
     "output_type": "stream",
     "text": [
      "Unnamed: 0              0\n",
      "Year                    0\n",
      "Month                   0\n",
      "DayofMonth              0\n",
      "DayOfWeek               0\n",
      "DepTime                 0\n",
      "CRSDepTime              0\n",
      "ArrTime              7110\n",
      "CRSArrTime              0\n",
      "UniqueCarrier           0\n",
      "FlightNum               0\n",
      "TailNum                 5\n",
      "ActualElapsedTime    8387\n",
      "CRSElapsedTime        198\n",
      "AirTime              8387\n",
      "ArrDelay             8387\n",
      "DepDelay                0\n",
      "Origin                  0\n",
      "Dest                    0\n",
      "Distance                0\n",
      "TaxiIn               7110\n",
      "TaxiOut               455\n",
      "Cancelled               0\n",
      "CancellationCode        0\n",
      "Diverted                0\n",
      "CarrierDelay            0\n",
      "WeatherDelay            0\n",
      "NASDelay                0\n",
      "SecurityDelay           0\n",
      "LateAircraftDelay       0\n",
      "dtype: int64\n"
     ]
    }
   ],
   "source": [
    "# Canvi dels valors nuls a 0\n",
    "\n",
    "df_2 = ['CarrierDelay','WeatherDelay', 'NASDelay', 'SecurityDelay', 'LateAircraftDelay']\n",
    "\n",
    "df[df_2] = df[['CarrierDelay','WeatherDelay', 'NASDelay', 'SecurityDelay', 'LateAircraftDelay']].fillna(0)\n",
    "\n",
    "print (df.isnull().sum())"
   ]
  },
  {
   "cell_type": "code",
   "execution_count": 3,
   "id": "922e2561",
   "metadata": {},
   "outputs": [
    {
     "name": "stdout",
     "output_type": "stream",
     "text": [
      "Unnamed: 0           0\n",
      "Year                 0\n",
      "Month                0\n",
      "DayofMonth           0\n",
      "DayOfWeek            0\n",
      "DepTime              0\n",
      "CRSDepTime           0\n",
      "ArrTime              0\n",
      "CRSArrTime           0\n",
      "UniqueCarrier        0\n",
      "FlightNum            0\n",
      "TailNum              0\n",
      "ActualElapsedTime    0\n",
      "CRSElapsedTime       0\n",
      "AirTime              0\n",
      "ArrDelay             0\n",
      "DepDelay             0\n",
      "Origin               0\n",
      "Dest                 0\n",
      "Distance             0\n",
      "TaxiIn               0\n",
      "TaxiOut              0\n",
      "Cancelled            0\n",
      "CancellationCode     0\n",
      "Diverted             0\n",
      "CarrierDelay         0\n",
      "WeatherDelay         0\n",
      "NASDelay             0\n",
      "SecurityDelay        0\n",
      "LateAircraftDelay    0\n",
      "dtype: int64\n"
     ]
    }
   ],
   "source": [
    "# Eliminació dels valors nuls (com farem una selecció aleatòria de 200.000 registres, \n",
    "# podem eliminar-los sense influir en l'anàlisi del dataset)\n",
    "\n",
    "df = df.dropna()\n",
    "\n",
    "print (df.isnull().sum())"
   ]
  },
  {
   "cell_type": "markdown",
   "id": "0eeab0e7",
   "metadata": {},
   "source": [
    "Ara ja tenim el dataset que necessitem. Seguidament, farem la reducció a 200.000 registres aleatoris."
   ]
  },
  {
   "cell_type": "code",
   "execution_count": 4,
   "id": "b3003993",
   "metadata": {},
   "outputs": [
    {
     "name": "stdout",
     "output_type": "stream",
     "text": [
      "         Unnamed: 0  Year  Month  DayofMonth  DayOfWeek  DepTime  CRSDepTime  \\\n",
      "1614628     5879594  2008     10          14          2   1324.0        1310   \n",
      "1178375     3936138  2008      7          31          4   1445.0        1403   \n",
      "637785      2036082  2008      4          14          1   2218.0        2120   \n",
      "264982       841780  2008      2           9          6   1824.0        1315   \n",
      "107833       344972  2008      1          17          4   1957.0        1835   \n",
      "...             ...   ...    ...         ...        ...      ...         ...   \n",
      "845972      2869791  2008      5          12          1   1525.0        1320   \n",
      "1409033     4785774  2008      8          11          1   1451.0         935   \n",
      "774291      2545562  2008      5          12          1   1055.0        1045   \n",
      "775878      2552894  2008      5          25          7   1125.0        1108   \n",
      "815080      2727410  2008      5           7          3   1623.0        1615   \n",
      "\n",
      "         ArrTime  CRSArrTime UniqueCarrier  ...  TaxiIn TaxiOut  Cancelled  \\\n",
      "1614628   1418.0        1358            AS  ...     6.0    14.0          0   \n",
      "1178375   1620.0        1530            EV  ...    26.0     5.0          0   \n",
      "637785    2332.0        2249            UA  ...     3.0     8.0          0   \n",
      "264982      26.0        1928            UA  ...     5.0    19.0          0   \n",
      "107833    2203.0        2050            EV  ...     5.0    19.0          0   \n",
      "...          ...         ...           ...  ...     ...     ...        ...   \n",
      "845972    2013.0        1745            AA  ...    13.0    36.0          0   \n",
      "1409033   1831.0        1245            B6  ...    11.0    44.0          0   \n",
      "774291    1210.0        1149            OH  ...     4.0    13.0          0   \n",
      "775878    1619.0        1559            OH  ...     8.0    15.0          0   \n",
      "815080    1942.0        1922            EV  ...    23.0    10.0          0   \n",
      "\n",
      "         CancellationCode  Diverted  CarrierDelay  WeatherDelay NASDelay  \\\n",
      "1614628                 N         0           0.0           0.0      6.0   \n",
      "1178375                 N         0           0.0           0.0     50.0   \n",
      "637785                  N         0           0.0           0.0      0.0   \n",
      "264982                  N         0          42.0           0.0      0.0   \n",
      "107833                  N         0           0.0          73.0      0.0   \n",
      "...                   ...       ...           ...           ...      ...   \n",
      "845972                  N         0           0.0           0.0    148.0   \n",
      "1409033                 N         0           0.0           0.0    346.0   \n",
      "774291                  N         0          10.0           0.0     11.0   \n",
      "775878                  N         0          17.0           0.0      3.0   \n",
      "815080                  N         0           8.0           0.0     12.0   \n",
      "\n",
      "        SecurityDelay  LateAircraftDelay  \n",
      "1614628           0.0               14.0  \n",
      "1178375           0.0                0.0  \n",
      "637785            0.0               43.0  \n",
      "264982            0.0              256.0  \n",
      "107833            0.0                0.0  \n",
      "...               ...                ...  \n",
      "845972            0.0                0.0  \n",
      "1409033           0.0                0.0  \n",
      "774291            0.0                0.0  \n",
      "775878            0.0                0.0  \n",
      "815080            0.0                0.0  \n",
      "\n",
      "[200000 rows x 30 columns]\n"
     ]
    }
   ],
   "source": [
    "# Reducció de la dimensió del dataset de manera aleatòria en 200.000 registres\n",
    "\n",
    "df = df.sample(n=200000)\n",
    "\n",
    "print (df)"
   ]
  },
  {
   "cell_type": "markdown",
   "id": "99dd0280",
   "metadata": {},
   "source": [
    "Visulaitzant les dades, podem determinar que les següents columnes no fa falta seleccionar-les:\n",
    "\n",
    "- Year: tots són del mateix any.\n",
    "- FlightNum i TailNum: no ens demanen informació tan específica (encara que en el següent exercici es pot utilitzar el FlightNum en comptes de l'origen i destí).\n",
    "- CarrierDelay, WeatherDelay, NASDelay, SecurityDelay i LateAircraftDelay: no necessitem saber les causes dels delays.\n",
    "- Cancelled i Diverted: en el següent exercici veiem que no hi ha vols cancel·lats o desviats.\n",
    "- CRSDepTime, CRSArrTime i CRSElapsedTime: és informació redundant, ja que amb el DepTime i DepDelay podem extreure el CRSDepTime (passa el mateix amb les altres variables).\n",
    "\n"
   ]
  },
  {
   "cell_type": "code",
   "execution_count": 5,
   "id": "7e397e44",
   "metadata": {},
   "outputs": [
    {
     "name": "stdout",
     "output_type": "stream",
     "text": [
      "         Unnamed: 0  Month  DayofMonth  DayOfWeek  DepTime  ArrTime  \\\n",
      "1614628     5879594     10          14          2   1324.0   1418.0   \n",
      "1178375     3936138      7          31          4   1445.0   1620.0   \n",
      "637785      2036082      4          14          1   2218.0   2332.0   \n",
      "264982       841780      2           9          6   1824.0     26.0   \n",
      "107833       344972      1          17          4   1957.0   2203.0   \n",
      "...             ...    ...         ...        ...      ...      ...   \n",
      "845972      2869791      5          12          1   1525.0   2013.0   \n",
      "1409033     4785774      8          11          1   1451.0   1831.0   \n",
      "774291      2545562      5          12          1   1055.0   1210.0   \n",
      "775878      2552894      5          25          7   1125.0   1619.0   \n",
      "815080      2727410      5           7          3   1623.0   1942.0   \n",
      "\n",
      "        UniqueCarrier  ActualElapsedTime  AirTime  ArrDelay  DepDelay Origin  \\\n",
      "1614628            AS               54.0     34.0      20.0      14.0    CDV   \n",
      "1178375            EV               95.0     64.0      50.0      42.0    TRI   \n",
      "637785             UA               74.0     63.0      43.0      58.0    DEN   \n",
      "264982             UA              242.0    218.0     298.0     309.0    SJC   \n",
      "107833             EV              126.0    102.0      73.0      82.0    ATL   \n",
      "...               ...                ...      ...       ...       ...    ...   \n",
      "845972             AA              228.0    179.0     148.0     125.0    DFW   \n",
      "1409033            B6              160.0    105.0     346.0     316.0    ORD   \n",
      "774291             OH               75.0     58.0      21.0      10.0    CVG   \n",
      "775878             OH              234.0    211.0      20.0      17.0    AUS   \n",
      "815080             EV              139.0    106.0      20.0       8.0    ATW   \n",
      "\n",
      "        Dest  Distance  TaxiIn  TaxiOut  \n",
      "1614628  ANC       160     6.0     14.0  \n",
      "1178375  ATL       227    26.0      5.0  \n",
      "637785   BIL       455     3.0      8.0  \n",
      "264982   ORD      1829     5.0     19.0  \n",
      "107833   ISP       795     5.0     19.0  \n",
      "...      ...       ...     ...      ...  \n",
      "845972   PHL      1302    13.0     36.0  \n",
      "1409033  JFK       740    11.0     44.0  \n",
      "774291   CLE       221     4.0     13.0  \n",
      "775878   JFK      1522     8.0     15.0  \n",
      "815080   ATL       765    23.0     10.0  \n",
      "\n",
      "[200000 rows x 16 columns]\n"
     ]
    }
   ],
   "source": [
    "df = df.drop(['Year', 'FlightNum', 'TailNum', \n",
    "              'CarrierDelay', 'WeatherDelay', 'NASDelay', 'SecurityDelay', 'LateAircraftDelay',\n",
    "              'Cancelled', 'Diverted', 'CancellationCode',\n",
    "              'CRSDepTime', 'CRSArrTime', 'CRSElapsedTime'], axis=1)\n",
    "\n",
    "print (df)"
   ]
  },
  {
   "cell_type": "markdown",
   "id": "e0b78594",
   "metadata": {},
   "source": [
    "### Exercici 2\n",
    "***\n",
    "\n",
    "Fes un informe complet del dataset:\n",
    "\n",
    "- Resumeix estadísticament el dataset i les columnes d’interès. Fes una anàlisi estadístic del que consideris rellevant.\n",
    "- Troba quantes dades faltants hi ha per columna.\n",
    "- Crea columnes noves (velocitat mitjana del vol, si ha arribat tard o no...).\n",
    "- Fes una taula de les aerolínies amb més endarreriments acumulats.\n",
    "- Quins són els vols més llargs? I els més endarrerits? Busca les rutes més llargues i les que acumulen més retards. Aporta allò que consideris rellevant.\n"
   ]
  },
  {
   "cell_type": "code",
   "execution_count": 6,
   "id": "3b64d27c",
   "metadata": {},
   "outputs": [
    {
     "name": "stdout",
     "output_type": "stream",
     "text": [
      "       Unnamed: 0      Month  DayofMonth  DayOfWeek    DepTime    ArrTime  \\\n",
      "count   200000.00  200000.00   200000.00  200000.00  200000.00  200000.00   \n",
      "mean   3337740.78       6.10       15.76       3.98    1518.94    1610.05   \n",
      "std    2066138.26       3.48        8.76       2.00     450.27     548.49   \n",
      "min          1.00       1.00        1.00       1.00       1.00       1.00   \n",
      "25%    1514285.00       3.00        8.00       2.00    1203.00    1315.00   \n",
      "50%    3236757.50       6.00       16.00       4.00    1545.00    1716.00   \n",
      "75%    4972739.00       9.00       23.00       6.00    1900.00    2030.00   \n",
      "max    7009664.00      12.00       31.00       7.00    2400.00    2400.00   \n",
      "\n",
      "       ActualElapsedTime    AirTime   ArrDelay   DepDelay   Distance  \\\n",
      "count          200000.00  200000.00  200000.00  200000.00  200000.00   \n",
      "mean              133.37     108.33      42.26      43.12     764.84   \n",
      "std                72.15      68.73      56.52      52.96     574.05   \n",
      "min                17.00       0.00     -61.00       6.00      11.00   \n",
      "25%                80.00      58.00       9.00      12.00     338.00   \n",
      "50%               116.00      90.00      24.00      24.00     606.00   \n",
      "75%               165.00     137.00      56.00      54.00     998.00   \n",
      "max               750.00     652.00    1382.00    1395.00    4962.00   \n",
      "\n",
      "          TaxiIn    TaxiOut  \n",
      "count  200000.00  200000.00  \n",
      "mean        6.82      18.22  \n",
      "std         5.25      14.37  \n",
      "min         0.00       0.00  \n",
      "25%         4.00      10.00  \n",
      "50%         6.00      14.00  \n",
      "75%         8.00      21.00  \n",
      "max       174.00     379.00  \n"
     ]
    }
   ],
   "source": [
    "# Resum estadístic del dataset\n",
    "\n",
    "print (df.describe().round(2))"
   ]
  },
  {
   "cell_type": "markdown",
   "id": "41c35e9b",
   "metadata": {},
   "source": [
    "La mitjana del mes és aproximadament 6.10, la qual cosa suggereix que els vols en aquest conjunt de dades estan distribuïts al llarg de l'any. Tanmateix, la mitjana del dia del mes (mean = 15.76) i del dia de la setmana (mean = 3.98) indica que els vols en el conjunt de dades es distribueixen al llarg del mes i de la seman per igual.\n",
    "\n",
    "El temps dels vols té una mitjana d'aproximadament 108.33 minuts i la La distancia mitjana dels vols és d'aproximadament 764.84 milles. Les mitjanes dels retards en l'arribada i la sortida són d'al voltant de 42.26 i 43.12 minuts, respectivament. Això suggereix que, en mitjana, els vols tendeixen a arribar una mica abans de l'hora programada d'arribada, però també a enlairar amb retard.\n",
    "\n",
    "En resum, aquesta anàlisi estadística proporciona una visió molt general de les característiques del conjunt de dades de vols, incloent-hi detalls sobre els temps programats i reals, les dates i els retards."
   ]
  },
  {
   "cell_type": "code",
   "execution_count": 7,
   "id": "379c644b",
   "metadata": {},
   "outputs": [
    {
     "name": "stdout",
     "output_type": "stream",
     "text": [
      "Unnamed: 0           0\n",
      "Month                0\n",
      "DayofMonth           0\n",
      "DayOfWeek            0\n",
      "DepTime              0\n",
      "ArrTime              0\n",
      "UniqueCarrier        0\n",
      "ActualElapsedTime    0\n",
      "AirTime              0\n",
      "ArrDelay             0\n",
      "DepDelay             0\n",
      "Origin               0\n",
      "Dest                 0\n",
      "Distance             0\n",
      "TaxiIn               0\n",
      "TaxiOut              0\n",
      "dtype: int64\n"
     ]
    }
   ],
   "source": [
    "# Dades faltants per columna\n",
    "\n",
    "print (df.isnull().sum())"
   ]
  },
  {
   "cell_type": "markdown",
   "id": "9e376282",
   "metadata": {},
   "source": [
    "Desprès de la neteja que hem fet al exercici anterior, no queda cap valor nul en el dataset."
   ]
  },
  {
   "cell_type": "code",
   "execution_count": 8,
   "id": "d5b69d6b",
   "metadata": {},
   "outputs": [
    {
     "name": "stdout",
     "output_type": "stream",
     "text": [
      "         Unnamed: 0  Month  DayofMonth  DayOfWeek  DepTime  ArrTime  \\\n",
      "1614628     5879594     10          14          2   1324.0   1418.0   \n",
      "1178375     3936138      7          31          4   1445.0   1620.0   \n",
      "637785      2036082      4          14          1   2218.0   2332.0   \n",
      "264982       841780      2           9          6   1824.0     26.0   \n",
      "107833       344972      1          17          4   1957.0   2203.0   \n",
      "954903      3208857      6          27          5    914.0   1246.0   \n",
      "609011      1917122      4          24          4   1316.0   1442.0   \n",
      "1113062     3706948      7          16          3   1138.0   1433.0   \n",
      "1557569     5547093     10          27          1   1659.0   2052.0   \n",
      "1740025     6494728     12          12          5   1032.0   1211.0   \n",
      "\n",
      "        UniqueCarrier  ActualElapsedTime  AirTime  ArrDelay  DepDelay Origin  \\\n",
      "1614628            AS               54.0     34.0      20.0      14.0    CDV   \n",
      "1178375            EV               95.0     64.0      50.0      42.0    TRI   \n",
      "637785             UA               74.0     63.0      43.0      58.0    DEN   \n",
      "264982             UA              242.0    218.0     298.0     309.0    SJC   \n",
      "107833             EV              126.0    102.0      73.0      82.0    ATL   \n",
      "954903             OO              152.0    112.0      89.0      84.0    COS   \n",
      "609011             XE               86.0     70.0       3.0      11.0    TUL   \n",
      "1113062            XE              115.0     87.0      13.0      21.0    SEA   \n",
      "1557569            OO              173.0    146.0      24.0      23.0    SLC   \n",
      "1740025            WN               99.0     66.0      26.0      12.0    DTW   \n",
      "\n",
      "        Dest  Distance  TaxiIn  TaxiOut  vel_mitj_vol  \n",
      "1614628  ANC       160     6.0     14.0        175.48  \n",
      "1178375  ATL       227    26.0      5.0        132.26  \n",
      "637785   BIL       455     3.0      8.0        269.32  \n",
      "264982   ORD      1829     5.0     19.0        312.86  \n",
      "107833   ISP       795     5.0     19.0        290.64  \n",
      "954903   ORD       911     5.0     35.0        303.32  \n",
      "609011   IAH       429     7.0      9.0        228.54  \n",
      "1113062  SLC       689     3.0     25.0        295.32  \n",
      "1557569  STL      1156     9.0     18.0        295.26  \n",
      "1740025  BWI       408     3.0     30.0        230.52  \n"
     ]
    }
   ],
   "source": [
    "# Creació de columnes noves\n",
    "\n",
    "# Velocitat mitjana de vol en km/h\n",
    "\n",
    "df['vel_mitj_vol'] = ((df['Distance'] / 1.609) / (df['AirTime'] / 60)).round(2)\n",
    "\n",
    "print (df.head(10))\n"
   ]
  },
  {
   "cell_type": "code",
   "execution_count": 11,
   "id": "7212eb35",
   "metadata": {},
   "outputs": [
    {
     "name": "stdout",
     "output_type": "stream",
     "text": [
      "         Unnamed: 0  Month  DayofMonth  DayOfWeek  DepTime  ArrTime  \\\n",
      "1614628     5879594     10          14          2   1324.0   1418.0   \n",
      "1178375     3936138      7          31          4   1445.0   1620.0   \n",
      "637785      2036082      4          14          1   2218.0   2332.0   \n",
      "264982       841780      2           9          6   1824.0     26.0   \n",
      "107833       344972      1          17          4   1957.0   2203.0   \n",
      "954903      3208857      6          27          5    914.0   1246.0   \n",
      "609011      1917122      4          24          4   1316.0   1442.0   \n",
      "1113062     3706948      7          16          3   1138.0   1433.0   \n",
      "1557569     5547093     10          27          1   1659.0   2052.0   \n",
      "1740025     6494728     12          12          5   1032.0   1211.0   \n",
      "\n",
      "        UniqueCarrier  ActualElapsedTime  AirTime  ArrDelay  DepDelay Origin  \\\n",
      "1614628            AS               54.0     34.0      20.0      14.0    CDV   \n",
      "1178375            EV               95.0     64.0      50.0      42.0    TRI   \n",
      "637785             UA               74.0     63.0      43.0      58.0    DEN   \n",
      "264982             UA              242.0    218.0     298.0     309.0    SJC   \n",
      "107833             EV              126.0    102.0      73.0      82.0    ATL   \n",
      "954903             OO              152.0    112.0      89.0      84.0    COS   \n",
      "609011             XE               86.0     70.0       3.0      11.0    TUL   \n",
      "1113062            XE              115.0     87.0      13.0      21.0    SEA   \n",
      "1557569            OO              173.0    146.0      24.0      23.0    SLC   \n",
      "1740025            WN               99.0     66.0      26.0      12.0    DTW   \n",
      "\n",
      "        Dest  Distance  TaxiIn  TaxiOut  vel_mitj_vol  Arriba_tard  \n",
      "1614628  ANC       160     6.0     14.0        175.48            1  \n",
      "1178375  ATL       227    26.0      5.0        132.26            1  \n",
      "637785   BIL       455     3.0      8.0        269.32            1  \n",
      "264982   ORD      1829     5.0     19.0        312.86            1  \n",
      "107833   ISP       795     5.0     19.0        290.64            1  \n",
      "954903   ORD       911     5.0     35.0        303.32            1  \n",
      "609011   IAH       429     7.0      9.0        228.54            0  \n",
      "1113062  SLC       689     3.0     25.0        295.32            0  \n",
      "1557569  STL      1156     9.0     18.0        295.26            1  \n",
      "1740025  BWI       408     3.0     30.0        230.52            1  \n",
      "\n",
      "Arriba_tard:\n",
      "1 si ha arribat tard\n",
      "0 si no ha arribat tard\n"
     ]
    }
   ],
   "source": [
    "# Si el vol aha arribat tard o no (15 min > ArrDelay)\n",
    "\n",
    "df['Arriba_tard'] = (df['ArrDelay'] > 15).astype(int)\n",
    "\n",
    "print (df.head(10))\n",
    "print ('')\n",
    "print ('Arriba_tard:')\n",
    "print ('1 si ha arribat tard')\n",
    "print ('0 si no ha arribat tard')"
   ]
  },
  {
   "cell_type": "code",
   "execution_count": 12,
   "id": "0547ab42",
   "metadata": {},
   "outputs": [
    {
     "name": "stdout",
     "output_type": "stream",
     "text": [
      "   UniqueCarrier  TotalDelays\n",
      "17            WN    1178095.0\n",
      "1             AA     923759.0\n",
      "15            UA     686149.0\n",
      "11            MQ     669476.0\n",
      "14            OO     621967.0\n",
      "18            XE     535948.0\n",
      "6             DL     473601.0\n",
      "5             CO     425203.0\n",
      "7             EV     409466.0\n",
      "19            YV     379586.0\n",
      "16            US     365688.0\n",
      "12            NW     359675.0\n",
      "4             B6     315717.0\n",
      "9             FL     312981.0\n",
      "13            OH     288629.0\n",
      "0             9E     250594.0\n",
      "3             AS     146593.0\n",
      "8             F9      80433.0\n",
      "10            HA      27246.0\n",
      "2             AQ       1484.0\n"
     ]
    }
   ],
   "source": [
    "# Taula de les aerolínies amb més endarreriments acumulats\n",
    "\n",
    "df_aero = df\n",
    "\n",
    "delays = df_aero.groupby('UniqueCarrier')['ArrDelay'].sum().reset_index()\n",
    "\n",
    "delays.rename(columns={'ArrDelay': 'TotalDelays'}, inplace=True)\n",
    "\n",
    "aero_delays = delays.sort_values(by='TotalDelays', ascending=False)\n",
    "\n",
    "\n",
    "print(aero_delays)\n"
   ]
  },
  {
   "cell_type": "markdown",
   "id": "b5d5f6cf",
   "metadata": {},
   "source": [
    "La companyia amb més minuts de delays acumuats es la WN."
   ]
  },
  {
   "cell_type": "code",
   "execution_count": 16,
   "id": "244a1588",
   "metadata": {},
   "outputs": [
    {
     "name": "stdout",
     "output_type": "stream",
     "text": [
      "        Origin Dest  Distance\n",
      "875809     HNL  EWR      4962\n",
      "871328     EWR  HNL      4962\n",
      "365506     EWR  HNL      4962\n",
      "721700     EWR  HNL      4962\n",
      "870877     EWR  HNL      4962\n",
      "...        ...  ...       ...\n",
      "865204     PSG  WRG        31\n",
      "864305     PSG  WRG        31\n",
      "1240809    WRG  PSG        31\n",
      "47146      IAD  DCA        24\n",
      "1310766    JFK  LGA        11\n",
      "\n",
      "[200000 rows x 3 columns]\n",
      "Els vols més llargs són els de la ruta EWR-HNL / HNL-EWR\n",
      " \n",
      "     Origin Dest  Vols_mes_dealy\n",
      "3470    ORD  LGA         27752.0\n",
      "3440    ORD  EWR         21954.0\n",
      "2507    LAX  SFO         21916.0\n",
      "1641    EWR  ORD         21434.0\n",
      "2580    LGA  ORD         20526.0\n",
      "...     ...  ...             ...\n",
      "2482    LAX  MEM           -21.0\n",
      "2357    LAS  BMI           -31.0\n",
      "4500    SMF  OGG           -33.0\n",
      "3300    OAK  TUS           -51.0\n",
      "1213    DEN  LIH           -67.0\n",
      "\n",
      "[4826 rows x 3 columns]\n",
      "Els vols amb més delay són els que es mostren en pantalla\n"
     ]
    }
   ],
   "source": [
    "# Quins són els vols més llargs? I els més endarrerits? Busca les rutes més llargues i les que acumulen més retards\n",
    "\n",
    "\n",
    "# Vols més llargs (rutes més llargues)\n",
    "\n",
    "df_vols = df\n",
    "\n",
    "vols_llargs = df_vols[['Origin', 'Dest', 'Distance']].sort_values(by='Distance', ascending=False)\n",
    "\n",
    "print(vols_llargs)\n",
    "\n",
    "print ('Els vols més llargs són els de la ruta EWR-HNL / HNL-EWR')\n",
    "print (' ')\n",
    "\n",
    "# Vols més endarrerits\n",
    "\n",
    "df_vols2 = df\n",
    "\n",
    "vols_enda = df_vols2.groupby(['Origin', 'Dest'])['ArrDelay'].sum().reset_index()\n",
    "                             \n",
    "vols_enda.rename(columns={'ArrDelay': 'Vols_mes_dealy'}, inplace=True)\n",
    "\n",
    "vols_mes = vols_enda.sort_values(by='Vols_mes_dealy', ascending=False)\n",
    "\n",
    "print (vols_mes)\n",
    "print ('Els vols amb més delay són els que es mostren en pantalla')"
   ]
  },
  {
   "cell_type": "markdown",
   "id": "29e75989",
   "metadata": {},
   "source": [
    "### Exercici 3\n",
    "***\n",
    "\n",
    "Exporta el dataset net i amb les noves columnes a Excel."
   ]
  },
  {
   "cell_type": "code",
   "execution_count": 17,
   "id": "d5f7ab6c",
   "metadata": {},
   "outputs": [],
   "source": [
    "df.to_excel('Vols_Delays_2008.xlsx')"
   ]
  },
  {
   "cell_type": "code",
   "execution_count": null,
   "id": "c5fcd892",
   "metadata": {},
   "outputs": [],
   "source": []
  }
 ],
 "metadata": {
  "kernelspec": {
   "display_name": "Python 3 (ipykernel)",
   "language": "python",
   "name": "python3"
  },
  "language_info": {
   "codemirror_mode": {
    "name": "ipython",
    "version": 3
   },
   "file_extension": ".py",
   "mimetype": "text/x-python",
   "name": "python",
   "nbconvert_exporter": "python",
   "pygments_lexer": "ipython3",
   "version": "3.10.9"
  }
 },
 "nbformat": 4,
 "nbformat_minor": 5
}
